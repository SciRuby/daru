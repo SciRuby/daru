{
 "cells": [
  {
   "cell_type": "code",
   "execution_count": 1,
   "metadata": {
    "collapsed": false
   },
   "outputs": [
    {
     "data": {
      "application/javascript": [
       "if(window['d3'] === undefined ||\n",
       "   window['Nyaplot'] === undefined){\n",
       "    var path = {\"d3\":\"https://cdnjs.cloudflare.com/ajax/libs/d3/3.5.5/d3.min\",\"downloadable\":\"https://cdn.rawgit.com/domitry/d3-downloadable/master/d3-downloadable\"};\n",
       "\n",
       "\n",
       "\n",
       "    var shim = {\"d3\":{\"exports\":\"d3\"},\"downloadable\":{\"exports\":\"downloadable\"}};\n",
       "\n",
       "    require.config({paths: path, shim:shim});\n",
       "\n",
       "\n",
       "require(['d3'], function(d3){window['d3']=d3;console.log('finished loading d3');require(['downloadable'], function(downloadable){window['downloadable']=downloadable;console.log('finished loading downloadable');\n",
       "\n",
       "\tvar script = d3.select(\"head\")\n",
       "\t    .append(\"script\")\n",
       "\t    .attr(\"src\", \"https://cdn.rawgit.com/domitry/Nyaplotjs/master/release/nyaplot.js\")\n",
       "\t    .attr(\"async\", true);\n",
       "\n",
       "\tscript[0][0].onload = script[0][0].onreadystatechange = function(){\n",
       "\n",
       "\n",
       "\t    var event = document.createEvent(\"HTMLEvents\");\n",
       "\t    event.initEvent(\"load_nyaplot\",false,false);\n",
       "\t    window.dispatchEvent(event);\n",
       "\t    console.log('Finished loading Nyaplotjs');\n",
       "\n",
       "\t};\n",
       "\n",
       "\n",
       "});});\n",
       "}\n"
      ],
      "text/plain": [
       "\"if(window['d3'] === undefined ||\\n   window['Nyaplot'] === undefined){\\n    var path = {\\\"d3\\\":\\\"https://cdnjs.cloudflare.com/ajax/libs/d3/3.5.5/d3.min\\\",\\\"downloadable\\\":\\\"https://cdn.rawgit.com/domitry/d3-downloadable/master/d3-downloadable\\\"};\\n\\n\\n\\n    var shim = {\\\"d3\\\":{\\\"exports\\\":\\\"d3\\\"},\\\"downloadable\\\":{\\\"exports\\\":\\\"downloadable\\\"}};\\n\\n    require.config({paths: path, shim:shim});\\n\\n\\nrequire(['d3'], function(d3){window['d3']=d3;console.log('finished loading d3');require(['downloadable'], function(downloadable){window['downloadable']=downloadable;console.log('finished loading downloadable');\\n\\n\\tvar script = d3.select(\\\"head\\\")\\n\\t    .append(\\\"script\\\")\\n\\t    .attr(\\\"src\\\", \\\"https://cdn.rawgit.com/domitry/Nyaplotjs/master/release/nyaplot.js\\\")\\n\\t    .attr(\\\"async\\\", true);\\n\\n\\tscript[0][0].onload = script[0][0].onreadystatechange = function(){\\n\\n\\n\\t    var event = document.createEvent(\\\"HTMLEvents\\\");\\n\\t    event.initEvent(\\\"load_nyaplot\\\",false,false);\\n\\t    window.dispatchEvent(event);\\n\\t    console.log('Finished loading Nyaplotjs');\\n\\n\\t};\\n\\n\\n});});\\n}\\n\""
      ]
     },
     "metadata": {},
     "output_type": "display_data"
    },
    {
     "data": {
      "text/plain": [
       "true"
      ]
     },
     "execution_count": 1,
     "metadata": {},
     "output_type": "execute_result"
    }
   ],
   "source": [
    "require '~/workspace/daru/lib/daru.rb'"
   ]
  },
  {
   "cell_type": "markdown",
   "metadata": {},
   "source": [
    "## Categorical Vector Visualization"
   ]
  },
  {
   "cell_type": "code",
   "execution_count": 2,
   "metadata": {
    "collapsed": false
   },
   "outputs": [
    {
     "data": {
      "text/plain": [
       ":category"
      ]
     },
     "execution_count": 2,
     "metadata": {},
     "output_type": "execute_result"
    }
   ],
   "source": [
    "dv = Daru::Vector.new ['III']*10 + ['II']*5 + ['I']*5, type: :category, categories: ['I', 'II', 'III']\n",
    "dv.type"
   ]
  },
  {
   "cell_type": "markdown",
   "metadata": {},
   "source": [
    "### Bar graph"
   ]
  },
  {
   "cell_type": "markdown",
   "metadata": {},
   "source": [
    "#### 1. Frequency (count)"
   ]
  },
  {
   "cell_type": "code",
   "execution_count": 3,
   "metadata": {
    "collapsed": false
   },
   "outputs": [
    {
     "data": {
      "text/html": [
       "<div id='vis-1230388e-d76f-48a0-853a-fcd568b62316'></div>\n",
       "<script>\n",
       "(function(){\n",
       "    var render = function(){\n",
       "        var model = {\"panes\":[{\"diagrams\":[{\"type\":\"bar\",\"options\":{\"x\":\"data0\",\"y\":\"data1\"},\"data\":\"0cebb3cd-1da2-44a2-a9f6-67ec0894866e\"}],\"options\":{\"x_label\":\"Categories\",\"y_label\":\"Frequency\",\"width\":700,\"xrange\":[\"I\",\"II\",\"III\"],\"yrange\":[0,10]}}],\"data\":{\"0cebb3cd-1da2-44a2-a9f6-67ec0894866e\":[{\"data0\":\"I\",\"data1\":5},{\"data0\":\"II\",\"data1\":5},{\"data0\":\"III\",\"data1\":10}]},\"extension\":[]}\n",
       "        var id_name = '#vis-1230388e-d76f-48a0-853a-fcd568b62316';\n",
       "        Nyaplot.core.parse(model, id_name);\n",
       "\n",
       "        require(['downloadable'], function(downloadable){\n",
       "          var svg = d3.select(id_name).select(\"svg\");\n",
       "\t  if(!svg.empty())\n",
       "\t    svg.call(downloadable().filename('fig'));\n",
       "\t});\n",
       "    };\n",
       "    if(window['Nyaplot']==undefined){\n",
       "        window.addEventListener('load_nyaplot', render, false);\n",
       "\treturn;\n",
       "    } else {\n",
       "       render();\n",
       "    }\n",
       "})();\n",
       "</script>\n"
      ],
      "text/plain": [
       "#<Nyaplot::Frame:0x00000004a576f8 @properties={:panes=>[#<Nyaplot::Plot:0x00000004a44058 @properties={:diagrams=>[#<Nyaplot::Diagram:0x00000004a57d88 @properties={:type=>:bar, :options=>{:x=>\"data0\", :y=>\"data1\"}, :data=>\"0cebb3cd-1da2-44a2-a9f6-67ec0894866e\"}, @xrange=[\"I\", \"II\", \"III\"], @yrange=[0, 10]>], :options=>{:x_label=>\"Categories\", :y_label=>\"Frequency\", :width=>700, :xrange=>[\"I\", \"II\", \"III\"], :yrange=>[0, 10]}}>], :data=>{\"0cebb3cd-1da2-44a2-a9f6-67ec0894866e\"=>#<Nyaplot::DataFrame:0x000000038647e8 @name=\"0cebb3cd-1da2-44a2-a9f6-67ec0894866e\", @rows=[{:data0=>\"I\", :data1=>5}, {:data0=>\"II\", :data1=>5}, {:data0=>\"III\", :data1=>10}]>}, :extension=>[]}>"
      ]
     },
     "metadata": {},
     "output_type": "display_data"
    }
   ],
   "source": [
    "dv.plot(type: :bar) do |p, d|\n",
    "  p.x_label 'Categories'\n",
    "  p.y_label 'Frequency'\n",
    "end"
   ]
  },
  {
   "cell_type": "markdown",
   "metadata": {},
   "source": [
    "#### 2. Percentage"
   ]
  },
  {
   "cell_type": "code",
   "execution_count": 4,
   "metadata": {
    "collapsed": false
   },
   "outputs": [
    {
     "data": {
      "text/html": [
       "<div id='vis-2027d9b2-9042-481d-9f00-d90af65f8cf6'></div>\n",
       "<script>\n",
       "(function(){\n",
       "    var render = function(){\n",
       "        var model = {\"panes\":[{\"diagrams\":[{\"type\":\"bar\",\"options\":{\"x\":\"data0\",\"y\":\"data1\"},\"data\":\"032d0223-49d0-46aa-8b38-81323cf0abf9\"}],\"options\":{\"yrange\":[0,100],\"x_label\":\"Categories\",\"y_label\":\"Percentage (%)\",\"width\":700,\"xrange\":[\"I\",\"II\",\"III\"]}}],\"data\":{\"032d0223-49d0-46aa-8b38-81323cf0abf9\":[{\"data0\":\"I\",\"data1\":25.0},{\"data0\":\"II\",\"data1\":25.0},{\"data0\":\"III\",\"data1\":50.0}]},\"extension\":[]}\n",
       "        var id_name = '#vis-2027d9b2-9042-481d-9f00-d90af65f8cf6';\n",
       "        Nyaplot.core.parse(model, id_name);\n",
       "\n",
       "        require(['downloadable'], function(downloadable){\n",
       "          var svg = d3.select(id_name).select(\"svg\");\n",
       "\t  if(!svg.empty())\n",
       "\t    svg.call(downloadable().filename('fig'));\n",
       "\t});\n",
       "    };\n",
       "    if(window['Nyaplot']==undefined){\n",
       "        window.addEventListener('load_nyaplot', render, false);\n",
       "\treturn;\n",
       "    } else {\n",
       "       render();\n",
       "    }\n",
       "})();\n",
       "</script>\n"
      ],
      "text/plain": [
       "#<Nyaplot::Frame:0x00000004aa2bf8 @properties={:panes=>[#<Nyaplot::Plot:0x000000038511e8 @properties={:diagrams=>[#<Nyaplot::Diagram:0x00000004aa31c0 @properties={:type=>:bar, :options=>{:x=>\"data0\", :y=>\"data1\"}, :data=>\"032d0223-49d0-46aa-8b38-81323cf0abf9\"}, @xrange=[\"I\", \"II\", \"III\"], @yrange=[0, 50.0]>], :options=>{:yrange=>[0, 100], :x_label=>\"Categories\", :y_label=>\"Percentage (%)\", :width=>700, :xrange=>[\"I\", \"II\", \"III\"]}}>], :data=>{\"032d0223-49d0-46aa-8b38-81323cf0abf9\"=>#<Nyaplot::DataFrame:0x00000004aa3850 @name=\"032d0223-49d0-46aa-8b38-81323cf0abf9\", @rows=[{:data0=>\"I\", :data1=>25.0}, {:data0=>\"II\", :data1=>25.0}, {:data0=>\"III\", :data1=>50.0}]>}, :extension=>[]}>"
      ]
     },
     "metadata": {},
     "output_type": "display_data"
    }
   ],
   "source": [
    "dv.plot(type: :bar, method: :percentage) do |p, d|\n",
    "  p.x_label 'Categories'\n",
    "  p.y_label 'Percentage (%)'\n",
    "end"
   ]
  },
  {
   "cell_type": "markdown",
   "metadata": {},
   "source": [
    "#### 3. Fraction"
   ]
  },
  {
   "cell_type": "code",
   "execution_count": 5,
   "metadata": {
    "collapsed": false
   },
   "outputs": [
    {
     "data": {
      "text/html": [
       "<div id='vis-7d7dcd2b-1492-4235-bb44-e299430add6a'></div>\n",
       "<script>\n",
       "(function(){\n",
       "    var render = function(){\n",
       "        var model = {\"panes\":[{\"diagrams\":[{\"type\":\"bar\",\"options\":{\"x\":\"data0\",\"y\":\"data1\"},\"data\":\"e1a3fcbf-142f-40dc-915a-2d4e4ff64ca6\"}],\"options\":{\"yrange\":[0,1],\"x_label\":\"Categories\",\"y_label\":\"Fraction\",\"width\":700,\"xrange\":[\"I\",\"II\",\"III\"]}}],\"data\":{\"e1a3fcbf-142f-40dc-915a-2d4e4ff64ca6\":[{\"data0\":\"I\",\"data1\":0.25},{\"data0\":\"II\",\"data1\":0.25},{\"data0\":\"III\",\"data1\":0.5}]},\"extension\":[]}\n",
       "        var id_name = '#vis-7d7dcd2b-1492-4235-bb44-e299430add6a';\n",
       "        Nyaplot.core.parse(model, id_name);\n",
       "\n",
       "        require(['downloadable'], function(downloadable){\n",
       "          var svg = d3.select(id_name).select(\"svg\");\n",
       "\t  if(!svg.empty())\n",
       "\t    svg.call(downloadable().filename('fig'));\n",
       "\t});\n",
       "    };\n",
       "    if(window['Nyaplot']==undefined){\n",
       "        window.addEventListener('load_nyaplot', render, false);\n",
       "\treturn;\n",
       "    } else {\n",
       "       render();\n",
       "    }\n",
       "})();\n",
       "</script>\n"
      ],
      "text/plain": [
       "#<Nyaplot::Frame:0x00000004ae4620 @properties={:panes=>[#<Nyaplot::Plot:0x00000004ae5cf0 @properties={:diagrams=>[#<Nyaplot::Diagram:0x00000004ae4be8 @properties={:type=>:bar, :options=>{:x=>\"data0\", :y=>\"data1\"}, :data=>\"e1a3fcbf-142f-40dc-915a-2d4e4ff64ca6\"}, @xrange=[\"I\", \"II\", \"III\"], @yrange=[0, 0.5]>], :options=>{:yrange=>[0, 1], :x_label=>\"Categories\", :y_label=>\"Fraction\", :width=>700, :xrange=>[\"I\", \"II\", \"III\"]}}>], :data=>{\"e1a3fcbf-142f-40dc-915a-2d4e4ff64ca6\"=>#<Nyaplot::DataFrame:0x00000004ae5278 @name=\"e1a3fcbf-142f-40dc-915a-2d4e4ff64ca6\", @rows=[{:data0=>\"I\", :data1=>0.25}, {:data0=>\"II\", :data1=>0.25}, {:data0=>\"III\", :data1=>0.5}]>}, :extension=>[]}>"
      ]
     },
     "metadata": {},
     "output_type": "display_data"
    }
   ],
   "source": [
    "dv.plot(type: :bar, method: :fraction) do |p, d|\n",
    "  p.x_label 'Categories'\n",
    "  p.y_label 'Fraction'\n",
    "end"
   ]
  },
  {
   "cell_type": "markdown",
   "metadata": {},
   "source": [
    "## Categorical data visualization in Dataframe"
   ]
  },
  {
   "cell_type": "markdown",
   "metadata": {},
   "source": [
    "### Bar Graph"
   ]
  },
  {
   "cell_type": "code",
   "execution_count": 6,
   "metadata": {
    "collapsed": false
   },
   "outputs": [
    {
     "data": {
      "text/plain": [
       ":category"
      ]
     },
     "execution_count": 6,
     "metadata": {},
     "output_type": "execute_result"
    }
   ],
   "source": [
    "df = Daru::DataFrame.new({\n",
    "  a: [1, 2, 4, -2, 5, 23, 0],\n",
    "  b: [3, 1, 3, -6, 2, 1, 0],\n",
    "  c: ['I', 'II', 'I', 'III', 'I', 'III', 'II']\n",
    "  })\n",
    "df.to_category :c\n",
    "df[:c].type"
   ]
  },
  {
   "cell_type": "code",
   "execution_count": 7,
   "metadata": {
    "collapsed": false
   },
   "outputs": [
    {
     "data": {
      "text/html": [
       "<div id='vis-748dc5e6-dcd0-46a4-ae88-90212507756f'></div>\n",
       "<script>\n",
       "(function(){\n",
       "    var render = function(){\n",
       "        var model = {\"panes\":[{\"diagrams\":[{\"type\":\"bar\",\"options\":{\"value\":\"c\"},\"data\":\"eec224dd-e7c5-4f10-8b23-2ed55f62bbab\"}],\"options\":{\"width\":700,\"xrange\":[\"I\",\"II\",\"III\"],\"yrange\":[0,7]}}],\"data\":{\"eec224dd-e7c5-4f10-8b23-2ed55f62bbab\":[{\"a\":1,\"b\":3,\"c\":\"I\"},{\"a\":2,\"b\":1,\"c\":\"II\"},{\"a\":4,\"b\":3,\"c\":\"I\"},{\"a\":-2,\"b\":-6,\"c\":\"III\"},{\"a\":5,\"b\":2,\"c\":\"I\"},{\"a\":23,\"b\":1,\"c\":\"III\"},{\"a\":0,\"b\":0,\"c\":\"II\"}]},\"extension\":[]}\n",
       "        var id_name = '#vis-748dc5e6-dcd0-46a4-ae88-90212507756f';\n",
       "        Nyaplot.core.parse(model, id_name);\n",
       "\n",
       "        require(['downloadable'], function(downloadable){\n",
       "          var svg = d3.select(id_name).select(\"svg\");\n",
       "\t  if(!svg.empty())\n",
       "\t    svg.call(downloadable().filename('fig'));\n",
       "\t});\n",
       "    };\n",
       "    if(window['Nyaplot']==undefined){\n",
       "        window.addEventListener('load_nyaplot', render, false);\n",
       "\treturn;\n",
       "    } else {\n",
       "       render();\n",
       "    }\n",
       "})();\n",
       "</script>\n"
      ],
      "text/plain": [
       "#<Nyaplot::Frame:0x00000004b784b0 @properties={:panes=>[#<Nyaplot::Plot:0x00000004b6df88 @properties={:diagrams=>[#<Nyaplot::Diagram:0x00000004b78898 @properties={:type=>:bar, :options=>{:value=>:c}, :data=>\"eec224dd-e7c5-4f10-8b23-2ed55f62bbab\"}, @xrange=[\"I\", \"II\", \"III\"], @yrange=[0, 7]>], :options=>{:width=>700, :xrange=>[\"I\", \"II\", \"III\"], :yrange=>[0, 7]}}>], :data=>{\"eec224dd-e7c5-4f10-8b23-2ed55f62bbab\"=>#<Nyaplot::DataFrame:0x00000004b78eb0 @name=\"eec224dd-e7c5-4f10-8b23-2ed55f62bbab\", @rows=[{:a=>1, :b=>3, :c=>\"I\"}, {:a=>2, :b=>1, :c=>\"II\"}, {:a=>4, :b=>3, :c=>\"I\"}, {:a=>-2, :b=>-6, :c=>\"III\"}, {:a=>5, :b=>2, :c=>\"I\"}, {:a=>23, :b=>1, :c=>\"III\"}, {:a=>0, :b=>0, :c=>\"II\"}]>}, :extension=>[]}>"
      ]
     },
     "metadata": {},
     "output_type": "display_data"
    }
   ],
   "source": [
    "df.plot(type: :bar, x: :c)"
   ]
  },
  {
   "cell_type": "markdown",
   "metadata": {},
   "source": [
    "### Scatter plot categorized by categorical variable"
   ]
  },
  {
   "cell_type": "markdown",
   "metadata": {},
   "source": [
    "Plots can be categorized by\n",
    "- Color\n",
    "- Size\n",
    "- Shape"
   ]
  },
  {
   "cell_type": "code",
   "execution_count": 8,
   "metadata": {
    "collapsed": false
   },
   "outputs": [
    {
     "data": {
      "text/plain": [
       ":category"
      ]
     },
     "execution_count": 8,
     "metadata": {},
     "output_type": "execute_result"
    }
   ],
   "source": [
    "df = Daru::DataFrame.new({\n",
    "  a: [1, 2, 4, -2, 5, 23, 0],\n",
    "  b: [3, 1, 3, -6, 2, 1, 0],\n",
    "  c: ['I', 'II', 'I', 'III', 'I', 'III', 'II']\n",
    "  })\n",
    "df.to_category :c\n",
    "df[:c].type"
   ]
  },
  {
   "cell_type": "markdown",
   "metadata": {},
   "source": [
    "Below are few examples"
   ]
  },
  {
   "cell_type": "code",
   "execution_count": 9,
   "metadata": {
    "collapsed": false,
    "scrolled": true
   },
   "outputs": [
    {
     "data": {
      "text/html": [
       "<div id='vis-a4d217c2-b321-46fd-9a80-987f207d9e8c'></div>\n",
       "<script>\n",
       "(function(){\n",
       "    var render = function(){\n",
       "        var model = {\"panes\":[{\"diagrams\":[{\"type\":\"scatter\",\"options\":{\"x\":\"a\",\"y\":\"b\",\"title\":\"I\",\"color\":\"rgb(228,26,28)\",\"tooltip_contents\":[\"I\",\"I\",\"I\"]},\"data\":\"bb512cd9-5815-4c3e-a99b-3513b3164a6e\"},{\"type\":\"scatter\",\"options\":{\"x\":\"a\",\"y\":\"b\",\"title\":\"II\",\"color\":\"rgb(55,126,184)\",\"tooltip_contents\":[\"II\",\"II\"]},\"data\":\"8ac6f512-b1fb-47bc-aa73-a27308568acc\"},{\"type\":\"scatter\",\"options\":{\"x\":\"a\",\"y\":\"b\",\"title\":\"III\",\"color\":\"rgb(77,175,74)\",\"tooltip_contents\":[\"III\",\"III\"]},\"data\":\"8fa65e5b-0177-4c55-bf7f-bb067954476e\"}],\"options\":{\"legend\":true,\"xrange\":[-10,10],\"yrange\":[-10,10],\"zoom\":true,\"width\":800}}],\"data\":{\"bb512cd9-5815-4c3e-a99b-3513b3164a6e\":[{\"a\":1,\"b\":3},{\"a\":4,\"b\":3},{\"a\":5,\"b\":2}],\"8ac6f512-b1fb-47bc-aa73-a27308568acc\":[{\"a\":2,\"b\":1},{\"a\":0,\"b\":0}],\"8fa65e5b-0177-4c55-bf7f-bb067954476e\":[{\"a\":-2,\"b\":-6},{\"a\":23,\"b\":1}]},\"extension\":[]}\n",
       "        var id_name = '#vis-a4d217c2-b321-46fd-9a80-987f207d9e8c';\n",
       "        Nyaplot.core.parse(model, id_name);\n",
       "\n",
       "        require(['downloadable'], function(downloadable){\n",
       "          var svg = d3.select(id_name).select(\"svg\");\n",
       "\t  if(!svg.empty())\n",
       "\t    svg.call(downloadable().filename('fig'));\n",
       "\t});\n",
       "    };\n",
       "    if(window['Nyaplot']==undefined){\n",
       "        window.addEventListener('load_nyaplot', render, false);\n",
       "\treturn;\n",
       "    } else {\n",
       "       render();\n",
       "    }\n",
       "})();\n",
       "</script>\n"
      ],
      "text/plain": [
       "#<Nyaplot::Frame:0x00000004c1a198 @properties={:panes=>[#<Nyaplot::Plot:0x00000004c01468 @properties={:diagrams=>[#<Nyaplot::Diagram:0x00000004c0d1c8 @properties={:type=>:scatter, :options=>{:x=>:a, :y=>:b, :title=>\"I\", :color=>\"rgb(228,26,28)\", :tooltip_contents=>[\"I\", \"I\", \"I\"]}, :data=>\"bb512cd9-5815-4c3e-a99b-3513b3164a6e\"}, @xrange=[1, 5], @yrange=[2, 3]>, #<Nyaplot::Diagram:0x00000004c12588 @properties={:type=>:scatter, :options=>{:x=>:a, :y=>:b, :title=>\"II\", :color=>\"rgb(55,126,184)\", :tooltip_contents=>[\"II\", \"II\"]}, :data=>\"8ac6f512-b1fb-47bc-aa73-a27308568acc\"}, @xrange=[0, 2], @yrange=[0, 1]>, #<Nyaplot::Diagram:0x00000004c1b8b8 @properties={:type=>:scatter, :options=>{:x=>:a, :y=>:b, :title=>\"III\", :color=>\"rgb(77,175,74)\", :tooltip_contents=>[\"III\", \"III\"]}, :data=>\"8fa65e5b-0177-4c55-bf7f-bb067954476e\"}, @xrange=[-2, 23], @yrange=[-6, 1]>], :options=>{:legend=>true, :xrange=>[-10, 10], :yrange=>[-10, 10], :zoom=>true, :width=>800}}>], :data=>{\"bb512cd9-5815-4c3e-a99b-3513b3164a6e\"=>#<Nyaplot::DataFrame:0x00000004c0d5d8 @name=\"bb512cd9-5815-4c3e-a99b-3513b3164a6e\", @rows=[{:a=>1, :b=>3}, {:a=>4, :b=>3}, {:a=>5, :b=>2}]>, \"8ac6f512-b1fb-47bc-aa73-a27308568acc\"=>#<Nyaplot::DataFrame:0x00000004c12920 @name=\"8ac6f512-b1fb-47bc-aa73-a27308568acc\", @rows=[{:a=>2, :b=>1}, {:a=>0, :b=>0}]>, \"8fa65e5b-0177-4c55-bf7f-bb067954476e\"=>#<Nyaplot::DataFrame:0x00000004c1bc50 @name=\"8fa65e5b-0177-4c55-bf7f-bb067954476e\", @rows=[{:a=>-2, :b=>-6}, {:a=>23, :b=>1}]>}, :extension=>[]}>"
      ]
     },
     "metadata": {},
     "output_type": "display_data"
    }
   ],
   "source": [
    "df.plot(type: :scatter, x: :a, y: :b, categorized: {by: :c, method: :color}) do |p, d|\n",
    "  p.xrange [-10, 10]\n",
    "  p.yrange [-10, 10]\n",
    "end"
   ]
  },
  {
   "cell_type": "code",
   "execution_count": 10,
   "metadata": {
    "collapsed": false
   },
   "outputs": [
    {
     "data": {
      "text/html": [
       "<div id='vis-c0a36866-f3f7-4119-97c9-a2affca1156b'></div>\n",
       "<script>\n",
       "(function(){\n",
       "    var render = function(){\n",
       "        var model = {\"panes\":[{\"diagrams\":[{\"type\":\"scatter\",\"options\":{\"x\":\"a\",\"y\":\"b\",\"title\":\"I\",\"shape\":\"circle,triangle-up,\",\"tooltip_contents\":[\"I\",\"I\",\"I\"]},\"data\":\"f46788d2-6727-49bd-aeeb-d02e665efd24\"},{\"type\":\"scatter\",\"options\":{\"x\":\"a\",\"y\":\"b\",\"title\":\"II\",\"shape\":\"diamond,\",\"tooltip_contents\":[\"II\",\"II\"]},\"data\":\"fffa9418-b86d-4bb1-bc57-3229806f458e\"},{\"type\":\"scatter\",\"options\":{\"x\":\"a\",\"y\":\"b\",\"title\":\"III\",\"shape\":\"square,\",\"tooltip_contents\":[\"III\",\"III\"]},\"data\":\"6a0a9654-dbcd-4293-be2f-0a652634d0ae\"}],\"options\":{\"legend\":true,\"xrange\":[-10,10],\"yrange\":[-10,10],\"zoom\":true,\"width\":800}}],\"data\":{\"f46788d2-6727-49bd-aeeb-d02e665efd24\":[{\"a\":1,\"b\":3},{\"a\":4,\"b\":3},{\"a\":5,\"b\":2}],\"fffa9418-b86d-4bb1-bc57-3229806f458e\":[{\"a\":2,\"b\":1},{\"a\":0,\"b\":0}],\"6a0a9654-dbcd-4293-be2f-0a652634d0ae\":[{\"a\":-2,\"b\":-6},{\"a\":23,\"b\":1}]},\"extension\":[]}\n",
       "        var id_name = '#vis-c0a36866-f3f7-4119-97c9-a2affca1156b';\n",
       "        Nyaplot.core.parse(model, id_name);\n",
       "\n",
       "        require(['downloadable'], function(downloadable){\n",
       "          var svg = d3.select(id_name).select(\"svg\");\n",
       "\t  if(!svg.empty())\n",
       "\t    svg.call(downloadable().filename('fig'));\n",
       "\t});\n",
       "    };\n",
       "    if(window['Nyaplot']==undefined){\n",
       "        window.addEventListener('load_nyaplot', render, false);\n",
       "\treturn;\n",
       "    } else {\n",
       "       render();\n",
       "    }\n",
       "})();\n",
       "</script>\n"
      ],
      "text/plain": [
       "#<Nyaplot::Frame:0x00000004c9dbd8 @properties={:panes=>[#<Nyaplot::Plot:0x00000004c8a4e8 @properties={:diagrams=>[#<Nyaplot::Diagram:0x00000004c91860 @properties={:type=>:scatter, :options=>{:x=>:a, :y=>:b, :title=>\"I\", :shape=>\"circle,triangle-up,\", :tooltip_contents=>[\"I\", \"I\", \"I\"]}, :data=>\"f46788d2-6727-49bd-aeeb-d02e665efd24\"}, @xrange=[1, 5], @yrange=[2, 3]>, #<Nyaplot::Diagram:0x00000004c9ab18 @properties={:type=>:scatter, :options=>{:x=>:a, :y=>:b, :title=>\"II\", :shape=>\"diamond,\", :tooltip_contents=>[\"II\", \"II\"]}, :data=>\"fffa9418-b86d-4bb1-bc57-3229806f458e\"}, @xrange=[0, 2], @yrange=[0, 1]>, #<Nyaplot::Diagram:0x00000004c9eb28 @properties={:type=>:scatter, :options=>{:x=>:a, :y=>:b, :title=>\"III\", :shape=>\"square,\", :tooltip_contents=>[\"III\", \"III\"]}, :data=>\"6a0a9654-dbcd-4293-be2f-0a652634d0ae\"}, @xrange=[-2, 23], @yrange=[-6, 1]>], :options=>{:legend=>true, :xrange=>[-10, 10], :yrange=>[-10, 10], :zoom=>true, :width=>800}}>], :data=>{\"f46788d2-6727-49bd-aeeb-d02e665efd24\"=>#<Nyaplot::DataFrame:0x00000004c91c70 @name=\"f46788d2-6727-49bd-aeeb-d02e665efd24\", @rows=[{:a=>1, :b=>3}, {:a=>4, :b=>3}, {:a=>5, :b=>2}]>, \"fffa9418-b86d-4bb1-bc57-3229806f458e\"=>#<Nyaplot::DataFrame:0x00000004c9aeb0 @name=\"fffa9418-b86d-4bb1-bc57-3229806f458e\", @rows=[{:a=>2, :b=>1}, {:a=>0, :b=>0}]>, \"6a0a9654-dbcd-4293-be2f-0a652634d0ae\"=>#<Nyaplot::DataFrame:0x00000004c9eec0 @name=\"6a0a9654-dbcd-4293-be2f-0a652634d0ae\", @rows=[{:a=>-2, :b=>-6}, {:a=>23, :b=>1}]>}, :extension=>[]}>"
      ]
     },
     "metadata": {},
     "output_type": "display_data"
    }
   ],
   "source": [
    "df.plot(type: :scatter, x: :a, y: :b, categorized: {by: :c, method: :shape}) do |p, d|\n",
    "  p.xrange [-10, 10]\n",
    "  p.yrange [-10, 10]\n",
    "end"
   ]
  },
  {
   "cell_type": "markdown",
   "metadata": {},
   "source": [
    "One can also specify custom colors, size and shape. For example:"
   ]
  },
  {
   "cell_type": "code",
   "execution_count": 11,
   "metadata": {
    "collapsed": false
   },
   "outputs": [
    {
     "data": {
      "text/html": [
       "<div id='vis-2e61f699-155e-4e41-a3aa-07f64e656ee5'></div>\n",
       "<script>\n",
       "(function(){\n",
       "    var render = function(){\n",
       "        var model = {\"panes\":[{\"diagrams\":[{\"type\":\"scatter\",\"options\":{\"x\":\"a\",\"y\":\"b\",\"title\":\"I\",\"color\":\"red\",\"tooltip_contents\":[\"I\",\"I\",\"I\"]},\"data\":\"f995cf52-d64e-4159-9649-bf7f9923d251\"},{\"type\":\"scatter\",\"options\":{\"x\":\"a\",\"y\":\"b\",\"title\":\"II\",\"color\":\"blue\",\"tooltip_contents\":[\"II\",\"II\"]},\"data\":\"7d499548-f345-45d5-8155-595e1289a42f\"},{\"type\":\"scatter\",\"options\":{\"x\":\"a\",\"y\":\"b\",\"title\":\"III\",\"color\":\"green\",\"tooltip_contents\":[\"III\",\"III\"]},\"data\":\"da19af14-bc16-4cb3-857e-0e0b5ae3f79a\"}],\"options\":{\"legend\":true,\"xrange\":[-10,10],\"yrange\":[-10,10],\"zoom\":true,\"width\":800}}],\"data\":{\"f995cf52-d64e-4159-9649-bf7f9923d251\":[{\"a\":1,\"b\":3},{\"a\":4,\"b\":3},{\"a\":5,\"b\":2}],\"7d499548-f345-45d5-8155-595e1289a42f\":[{\"a\":2,\"b\":1},{\"a\":0,\"b\":0}],\"da19af14-bc16-4cb3-857e-0e0b5ae3f79a\":[{\"a\":-2,\"b\":-6},{\"a\":23,\"b\":1}]},\"extension\":[]}\n",
       "        var id_name = '#vis-2e61f699-155e-4e41-a3aa-07f64e656ee5';\n",
       "        Nyaplot.core.parse(model, id_name);\n",
       "\n",
       "        require(['downloadable'], function(downloadable){\n",
       "          var svg = d3.select(id_name).select(\"svg\");\n",
       "\t  if(!svg.empty())\n",
       "\t    svg.call(downloadable().filename('fig'));\n",
       "\t});\n",
       "    };\n",
       "    if(window['Nyaplot']==undefined){\n",
       "        window.addEventListener('load_nyaplot', render, false);\n",
       "\treturn;\n",
       "    } else {\n",
       "       render();\n",
       "    }\n",
       "})();\n",
       "</script>\n"
      ],
      "text/plain": [
       "#<Nyaplot::Frame:0x00000004d274a0 @properties={:panes=>[#<Nyaplot::Plot:0x00000004d138b0 @properties={:diagrams=>[#<Nyaplot::Diagram:0x00000004d1be20 @properties={:type=>:scatter, :options=>{:x=>:a, :y=>:b, :title=>\"I\", :color=>:red, :tooltip_contents=>[\"I\", \"I\", \"I\"]}, :data=>\"f995cf52-d64e-4159-9649-bf7f9923d251\"}, @xrange=[1, 5], @yrange=[2, 3]>, #<Nyaplot::Diagram:0x00000004d1fac0 @properties={:type=>:scatter, :options=>{:x=>:a, :y=>:b, :title=>\"II\", :color=>:blue, :tooltip_contents=>[\"II\", \"II\"]}, :data=>\"7d499548-f345-45d5-8155-595e1289a42f\"}, @xrange=[0, 2], @yrange=[0, 1]>, #<Nyaplot::Diagram:0x0000000368c8f8 @properties={:type=>:scatter, :options=>{:x=>:a, :y=>:b, :title=>\"III\", :color=>:green, :tooltip_contents=>[\"III\", \"III\"]}, :data=>\"da19af14-bc16-4cb3-857e-0e0b5ae3f79a\"}, @xrange=[-2, 23], @yrange=[-6, 1]>], :options=>{:legend=>true, :xrange=>[-10, 10], :yrange=>[-10, 10], :zoom=>true, :width=>800}}>], :data=>{\"f995cf52-d64e-4159-9649-bf7f9923d251\"=>#<Nyaplot::DataFrame:0x00000003699a08 @name=\"f995cf52-d64e-4159-9649-bf7f9923d251\", @rows=[{:a=>1, :b=>3}, {:a=>4, :b=>3}, {:a=>5, :b=>2}]>, \"7d499548-f345-45d5-8155-595e1289a42f\"=>#<Nyaplot::DataFrame:0x00000004d1fe58 @name=\"7d499548-f345-45d5-8155-595e1289a42f\", @rows=[{:a=>2, :b=>1}, {:a=>0, :b=>0}]>, \"da19af14-bc16-4cb3-857e-0e0b5ae3f79a\"=>#<Nyaplot::DataFrame:0x0000000368d460 @name=\"da19af14-bc16-4cb3-857e-0e0b5ae3f79a\", @rows=[{:a=>-2, :b=>-6}, {:a=>23, :b=>1}]>}, :extension=>[]}>"
      ]
     },
     "metadata": {},
     "output_type": "display_data"
    }
   ],
   "source": [
    "df.plot(type: :scatter, x: :a, y: :b, categorized: {by: :c, method: :color, color: [:red, :blue, :green]}) do |p, d|\n",
    "  p.xrange [-10, 10]\n",
    "  p.yrange [-10, 10]\n",
    "end"
   ]
  },
  {
   "cell_type": "code",
   "execution_count": 12,
   "metadata": {
    "collapsed": false
   },
   "outputs": [
    {
     "data": {
      "text/html": [
       "<div id='vis-78a8d209-2fce-40ca-bd83-40fad0ce8a0f'></div>\n",
       "<script>\n",
       "(function(){\n",
       "    var render = function(){\n",
       "        var model = {\"panes\":[{\"diagrams\":[{\"type\":\"scatter\",\"options\":{\"x\":\"a\",\"y\":\"b\",\"title\":\"I\",\"size\":300,\"tooltip_contents\":[\"I\",\"I\",\"I\"]},\"data\":\"17fff198-de4b-4b2e-924c-b672e01e2fbd\"},{\"type\":\"scatter\",\"options\":{\"x\":\"a\",\"y\":\"b\",\"title\":\"II\",\"size\":600,\"tooltip_contents\":[\"II\",\"II\"]},\"data\":\"e6d112d5-8211-4ce8-b3bc-1d5f4b732b17\"},{\"type\":\"scatter\",\"options\":{\"x\":\"a\",\"y\":\"b\",\"title\":\"III\",\"size\":900,\"tooltip_contents\":[\"III\",\"III\"]},\"data\":\"aee759e7-7fde-418d-93fe-3f18c3fdb2ea\"}],\"options\":{\"legend\":true,\"xrange\":[-10,10],\"yrange\":[-10,10],\"zoom\":true,\"width\":800}}],\"data\":{\"17fff198-de4b-4b2e-924c-b672e01e2fbd\":[{\"a\":1,\"b\":3},{\"a\":4,\"b\":3},{\"a\":5,\"b\":2}],\"e6d112d5-8211-4ce8-b3bc-1d5f4b732b17\":[{\"a\":2,\"b\":1},{\"a\":0,\"b\":0}],\"aee759e7-7fde-418d-93fe-3f18c3fdb2ea\":[{\"a\":-2,\"b\":-6},{\"a\":23,\"b\":1}]},\"extension\":[]}\n",
       "        var id_name = '#vis-78a8d209-2fce-40ca-bd83-40fad0ce8a0f';\n",
       "        Nyaplot.core.parse(model, id_name);\n",
       "\n",
       "        require(['downloadable'], function(downloadable){\n",
       "          var svg = d3.select(id_name).select(\"svg\");\n",
       "\t  if(!svg.empty())\n",
       "\t    svg.call(downloadable().filename('fig'));\n",
       "\t});\n",
       "    };\n",
       "    if(window['Nyaplot']==undefined){\n",
       "        window.addEventListener('load_nyaplot', render, false);\n",
       "\treturn;\n",
       "    } else {\n",
       "       render();\n",
       "    }\n",
       "})();\n",
       "</script>\n"
      ],
      "text/plain": [
       "#<Nyaplot::Frame:0x00000004da7c68 @properties={:panes=>[#<Nyaplot::Plot:0x00000004d8d4f8 @properties={:diagrams=>[#<Nyaplot::Diagram:0x00000004d9b2b0 @properties={:type=>:scatter, :options=>{:x=>:a, :y=>:b, :title=>\"I\", :size=>300, :tooltip_contents=>[\"I\", \"I\", \"I\"]}, :data=>\"17fff198-de4b-4b2e-924c-b672e01e2fbd\"}, @xrange=[1, 5], @yrange=[2, 3]>, #<Nyaplot::Diagram:0x00000004d9f7e8 @properties={:type=>:scatter, :options=>{:x=>:a, :y=>:b, :title=>\"II\", :size=>600, :tooltip_contents=>[\"II\", \"II\"]}, :data=>\"e6d112d5-8211-4ce8-b3bc-1d5f4b732b17\"}, @xrange=[0, 2], @yrange=[0, 1]>, #<Nyaplot::Diagram:0x0000000362ee10 @properties={:type=>:scatter, :options=>{:x=>:a, :y=>:b, :title=>\"III\", :size=>900, :tooltip_contents=>[\"III\", \"III\"]}, :data=>\"aee759e7-7fde-418d-93fe-3f18c3fdb2ea\"}, @xrange=[-2, 23], @yrange=[-6, 1]>], :options=>{:legend=>true, :xrange=>[-10, 10], :yrange=>[-10, 10], :zoom=>true, :width=>800}}>], :data=>{\"17fff198-de4b-4b2e-924c-b672e01e2fbd\"=>#<Nyaplot::DataFrame:0x00000004d9b6c0 @name=\"17fff198-de4b-4b2e-924c-b672e01e2fbd\", @rows=[{:a=>1, :b=>3}, {:a=>4, :b=>3}, {:a=>5, :b=>2}]>, \"e6d112d5-8211-4ce8-b3bc-1d5f4b732b17\"=>#<Nyaplot::DataFrame:0x00000004d9fb80 @name=\"e6d112d5-8211-4ce8-b3bc-1d5f4b732b17\", @rows=[{:a=>2, :b=>1}, {:a=>0, :b=>0}]>, \"aee759e7-7fde-418d-93fe-3f18c3fdb2ea\"=>#<Nyaplot::DataFrame:0x0000000362f388 @name=\"aee759e7-7fde-418d-93fe-3f18c3fdb2ea\", @rows=[{:a=>-2, :b=>-6}, {:a=>23, :b=>1}]>}, :extension=>[]}>"
      ]
     },
     "metadata": {},
     "output_type": "display_data"
    }
   ],
   "source": [
    "df.plot(type: :scatter, x: :a, y: :b, categorized: {by: :c, method: :size, size: [300, 600, 900]}) do |p, d|\n",
    "  p.xrange [-10, 10]\n",
    "  p.yrange [-10, 10]\n",
    "end"
   ]
  },
  {
   "cell_type": "markdown",
   "metadata": {},
   "source": [
    "### Line plot categorized by categorical variable"
   ]
  },
  {
   "cell_type": "markdown",
   "metadata": {},
   "source": [
    "It works similar to Scatter plot above and all options are same except that there's no categorization by **size** but instead there is categorization by **stroke_width** in line plots."
   ]
  },
  {
   "cell_type": "code",
   "execution_count": 13,
   "metadata": {
    "collapsed": false
   },
   "outputs": [
    {
     "data": {
      "text/plain": [
       ":category"
      ]
     },
     "execution_count": 13,
     "metadata": {},
     "output_type": "execute_result"
    }
   ],
   "source": [
    "df = Daru::DataFrame.new({\n",
    "  a: [1, 2, 3, 4, 5, 6, 7, 8, 9],\n",
    "  b: [2, 4, 6, 1, 3, 5, 6, 4, 3],\n",
    "  c: ['I']*3 + ['II']*3 + ['III']*3\n",
    "  })\n",
    "df.to_category :c\n",
    "df[:c].type"
   ]
  },
  {
   "cell_type": "code",
   "execution_count": 14,
   "metadata": {
    "collapsed": false
   },
   "outputs": [
    {
     "data": {
      "text/html": [
       "<div id='vis-b16ced10-8040-4598-a792-752d447f4662'></div>\n",
       "<script>\n",
       "(function(){\n",
       "    var render = function(){\n",
       "        var model = {\"panes\":[{\"diagrams\":[{\"type\":\"line\",\"options\":{\"x\":\"a\",\"y\":\"b\",\"title\":\"I\",\"color\":\"rgb(102,194,165)\"},\"data\":\"fa5d9604-33f4-4c1f-9d7e-84223b9985a0\"},{\"type\":\"line\",\"options\":{\"x\":\"a\",\"y\":\"b\",\"title\":\"II\",\"color\":\"rgb(252,141,98)\"},\"data\":\"a3cc8706-8750-4f4f-b17b-7c8b506846bd\"},{\"type\":\"line\",\"options\":{\"x\":\"a\",\"y\":\"b\",\"title\":\"III\",\"color\":\"rgb(141,160,203)\"},\"data\":\"f9e25305-8801-4c49-87dd-563a86eae364\"}],\"options\":{\"legend\":true,\"zoom\":true,\"width\":800,\"xrange\":[1,9],\"yrange\":[1,6]}}],\"data\":{\"fa5d9604-33f4-4c1f-9d7e-84223b9985a0\":[{\"a\":1,\"b\":2},{\"a\":2,\"b\":4},{\"a\":3,\"b\":6}],\"a3cc8706-8750-4f4f-b17b-7c8b506846bd\":[{\"a\":4,\"b\":1},{\"a\":5,\"b\":3},{\"a\":6,\"b\":5}],\"f9e25305-8801-4c49-87dd-563a86eae364\":[{\"a\":7,\"b\":6},{\"a\":8,\"b\":4},{\"a\":9,\"b\":3}]},\"extension\":[]}\n",
       "        var id_name = '#vis-b16ced10-8040-4598-a792-752d447f4662';\n",
       "        Nyaplot.core.parse(model, id_name);\n",
       "\n",
       "        require(['downloadable'], function(downloadable){\n",
       "          var svg = d3.select(id_name).select(\"svg\");\n",
       "\t  if(!svg.empty())\n",
       "\t    svg.call(downloadable().filename('fig'));\n",
       "\t});\n",
       "    };\n",
       "    if(window['Nyaplot']==undefined){\n",
       "        window.addEventListener('load_nyaplot', render, false);\n",
       "\treturn;\n",
       "    } else {\n",
       "       render();\n",
       "    }\n",
       "})();\n",
       "</script>\n"
      ],
      "text/plain": [
       "#<Nyaplot::Frame:0x00000003593be0 @properties={:panes=>[#<Nyaplot::Plot:0x000000035ab588 @properties={:diagrams=>[#<Nyaplot::Diagram:0x00000004e54878 @properties={:type=>:line, :options=>{:x=>:a, :y=>:b, :title=>\"I\", :color=>\"rgb(102,194,165)\"}, :data=>\"fa5d9604-33f4-4c1f-9d7e-84223b9985a0\"}, @xrange=[1, 3], @yrange=[2, 6]>, #<Nyaplot::Diagram:0x00000004e58590 @properties={:type=>:line, :options=>{:x=>:a, :y=>:b, :title=>\"II\", :color=>\"rgb(252,141,98)\"}, :data=>\"a3cc8706-8750-4f4f-b17b-7c8b506846bd\"}, @xrange=[4, 6], @yrange=[1, 5]>, #<Nyaplot::Diagram:0x00000004e611e0 @properties={:type=>:line, :options=>{:x=>:a, :y=>:b, :title=>\"III\", :color=>\"rgb(141,160,203)\"}, :data=>\"f9e25305-8801-4c49-87dd-563a86eae364\"}, @xrange=[7, 9], @yrange=[3, 6]>], :options=>{:legend=>true, :zoom=>true, :width=>800, :xrange=>[1, 9], :yrange=>[1, 6]}}>], :data=>{\"fa5d9604-33f4-4c1f-9d7e-84223b9985a0\"=>#<Nyaplot::DataFrame:0x00000004e54c88 @name=\"fa5d9604-33f4-4c1f-9d7e-84223b9985a0\", @rows=[{:a=>1, :b=>2}, {:a=>2, :b=>4}, {:a=>3, :b=>6}]>, \"a3cc8706-8750-4f4f-b17b-7c8b506846bd\"=>#<Nyaplot::DataFrame:0x00000004e589a0 @name=\"a3cc8706-8750-4f4f-b17b-7c8b506846bd\", @rows=[{:a=>4, :b=>1}, {:a=>5, :b=>3}, {:a=>6, :b=>5}]>, \"f9e25305-8801-4c49-87dd-563a86eae364\"=>#<Nyaplot::DataFrame:0x00000004e615f0 @name=\"f9e25305-8801-4c49-87dd-563a86eae364\", @rows=[{:a=>7, :b=>6}, {:a=>8, :b=>4}, {:a=>9, :b=>3}]>}, :extension=>[]}>"
      ]
     },
     "metadata": {},
     "output_type": "display_data"
    }
   ],
   "source": [
    "df.plot type: :line, x: :a, y: :b, categorized: {by: :c, method: :color} do end"
   ]
  },
  {
   "cell_type": "code",
   "execution_count": 15,
   "metadata": {
    "collapsed": false
   },
   "outputs": [
    {
     "data": {
      "text/html": [
       "<div id='vis-9b338752-8759-42a5-ac4a-bcc10a1f2561'></div>\n",
       "<script>\n",
       "(function(){\n",
       "    var render = function(){\n",
       "        var model = {\"panes\":[{\"diagrams\":[{\"type\":\"line\",\"options\":{\"x\":\"a\",\"y\":\"b\",\"title\":\"I\",\"stroke_width\":2},\"data\":\"7424a377-f68b-4029-a883-5c78849006fd\"},{\"type\":\"line\",\"options\":{\"x\":\"a\",\"y\":\"b\",\"title\":\"II\",\"stroke_width\":4},\"data\":\"00d97738-a29b-4d1d-b6dc-d751f6fe2bc7\"},{\"type\":\"line\",\"options\":{\"x\":\"a\",\"y\":\"b\",\"title\":\"III\",\"stroke_width\":6},\"data\":\"535f783f-5d74-4f57-9278-b8fbc52d8233\"}],\"options\":{\"legend\":true,\"xrange\":[-10,10],\"yrange\":[-10,10],\"zoom\":true,\"width\":800}}],\"data\":{\"7424a377-f68b-4029-a883-5c78849006fd\":[{\"a\":1,\"b\":2},{\"a\":2,\"b\":4},{\"a\":3,\"b\":6}],\"00d97738-a29b-4d1d-b6dc-d751f6fe2bc7\":[{\"a\":4,\"b\":1},{\"a\":5,\"b\":3},{\"a\":6,\"b\":5}],\"535f783f-5d74-4f57-9278-b8fbc52d8233\":[{\"a\":7,\"b\":6},{\"a\":8,\"b\":4},{\"a\":9,\"b\":3}]},\"extension\":[]}\n",
       "        var id_name = '#vis-9b338752-8759-42a5-ac4a-bcc10a1f2561';\n",
       "        Nyaplot.core.parse(model, id_name);\n",
       "\n",
       "        require(['downloadable'], function(downloadable){\n",
       "          var svg = d3.select(id_name).select(\"svg\");\n",
       "\t  if(!svg.empty())\n",
       "\t    svg.call(downloadable().filename('fig'));\n",
       "\t});\n",
       "    };\n",
       "    if(window['Nyaplot']==undefined){\n",
       "        window.addEventListener('load_nyaplot', render, false);\n",
       "\treturn;\n",
       "    } else {\n",
       "       render();\n",
       "    }\n",
       "})();\n",
       "</script>\n"
      ],
      "text/plain": [
       "#<Nyaplot::Frame:0x00000004eeba20 @properties={:panes=>[#<Nyaplot::Plot:0x00000004ed6260 @properties={:diagrams=>[#<Nyaplot::Diagram:0x00000004ede410 @properties={:type=>:line, :options=>{:x=>:a, :y=>:b, :title=>\"I\", :stroke_width=>2}, :data=>\"7424a377-f68b-4029-a883-5c78849006fd\"}, @xrange=[1, 3], @yrange=[2, 6]>, #<Nyaplot::Diagram:0x00000004ee3708 @properties={:type=>:line, :options=>{:x=>:a, :y=>:b, :title=>\"II\", :stroke_width=>4}, :data=>\"00d97738-a29b-4d1d-b6dc-d751f6fe2bc7\"}, @xrange=[4, 6], @yrange=[1, 5]>, #<Nyaplot::Diagram:0x00000003549658 @properties={:type=>:line, :options=>{:x=>:a, :y=>:b, :title=>\"III\", :stroke_width=>6}, :data=>\"535f783f-5d74-4f57-9278-b8fbc52d8233\"}, @xrange=[7, 9], @yrange=[3, 6]>], :options=>{:legend=>true, :xrange=>[-10, 10], :yrange=>[-10, 10], :zoom=>true, :width=>800}}>], :data=>{\"7424a377-f68b-4029-a883-5c78849006fd\"=>#<Nyaplot::DataFrame:0x00000004ede820 @name=\"7424a377-f68b-4029-a883-5c78849006fd\", @rows=[{:a=>1, :b=>2}, {:a=>2, :b=>4}, {:a=>3, :b=>6}]>, \"00d97738-a29b-4d1d-b6dc-d751f6fe2bc7\"=>#<Nyaplot::DataFrame:0x00000004ee3b18 @name=\"00d97738-a29b-4d1d-b6dc-d751f6fe2bc7\", @rows=[{:a=>4, :b=>1}, {:a=>5, :b=>3}, {:a=>6, :b=>5}]>, \"535f783f-5d74-4f57-9278-b8fbc52d8233\"=>#<Nyaplot::DataFrame:0x00000003549ec8 @name=\"535f783f-5d74-4f57-9278-b8fbc52d8233\", @rows=[{:a=>7, :b=>6}, {:a=>8, :b=>4}, {:a=>9, :b=>3}]>}, :extension=>[]}>"
      ]
     },
     "metadata": {},
     "output_type": "display_data"
    }
   ],
   "source": [
    "df.plot type: :line, x: :a, y: :b, categorized: {by: :c, method: :stroke_width} do |p, d|\n",
    "  p.xrange [-10, 10]\n",
    "  p.yrange [-10, 10]  \n",
    "end"
   ]
  },
  {
   "cell_type": "code",
   "execution_count": null,
   "metadata": {
    "collapsed": true
   },
   "outputs": [],
   "source": []
  }
 ],
 "metadata": {
  "kernelspec": {
   "display_name": "Ruby 2.3.0",
   "language": "ruby",
   "name": "ruby"
  },
  "language_info": {
   "file_extension": ".rb",
   "mimetype": "application/x-ruby",
   "name": "ruby",
   "version": "2.3.0"
  }
 },
 "nbformat": 4,
 "nbformat_minor": 0
}
